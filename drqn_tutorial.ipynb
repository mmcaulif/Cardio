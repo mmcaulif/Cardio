{
 "cells": [
  {
   "cell_type": "code",
   "execution_count": 1,
   "id": "aaa9b40e",
   "metadata": {},
   "outputs": [
    {
     "name": "stdout",
     "output_type": "stream",
     "text": [
      "Requirement already satisfied: popgym in /Users/insta-mac13/miniconda3/envs/cardio/lib/python3.10/site-packages (1.0.6)\n",
      "Requirement already satisfied: numpy in /Users/insta-mac13/miniconda3/envs/cardio/lib/python3.10/site-packages (from popgym) (1.26.4)\n",
      "Requirement already satisfied: gymnasium in /Users/insta-mac13/miniconda3/envs/cardio/lib/python3.10/site-packages (from popgym) (0.28.1)\n",
      "Requirement already satisfied: jax-jumpy>=1.0.0 in /Users/insta-mac13/miniconda3/envs/cardio/lib/python3.10/site-packages (from gymnasium->popgym) (1.0.0)\n",
      "Requirement already satisfied: cloudpickle>=1.2.0 in /Users/insta-mac13/miniconda3/envs/cardio/lib/python3.10/site-packages (from gymnasium->popgym) (3.1.0)\n",
      "Requirement already satisfied: typing-extensions>=4.3.0 in /Users/insta-mac13/miniconda3/envs/cardio/lib/python3.10/site-packages (from gymnasium->popgym) (4.12.2)\n",
      "Requirement already satisfied: farama-notifications>=0.0.1 in /Users/insta-mac13/miniconda3/envs/cardio/lib/python3.10/site-packages (from gymnasium->popgym) (0.0.4)\n",
      "\u001b[33mWARNING: Error parsing requirements for packaging: [Errno 2] No such file or directory: '/Users/insta-mac13/miniconda3/envs/cardio/lib/python3.10/site-packages/packaging-24.1.dist-info/METADATA'\u001b[0m\u001b[33m\n",
      "\u001b[0mNote: you may need to restart the kernel to use updated packages.\n"
     ]
    }
   ],
   "source": [
    "%pip install popgym"
   ]
  }
 ],
 "metadata": {
  "kernelspec": {
   "display_name": "cardio",
   "language": "python",
   "name": "python3"
  },
  "language_info": {
   "codemirror_mode": {
    "name": "ipython",
    "version": 3
   },
   "file_extension": ".py",
   "mimetype": "text/x-python",
   "name": "python",
   "nbconvert_exporter": "python",
   "pygments_lexer": "ipython3",
   "version": "3.10.13"
  }
 },
 "nbformat": 4,
 "nbformat_minor": 5
}
